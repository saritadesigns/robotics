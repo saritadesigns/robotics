{
  "nbformat": 4,
  "nbformat_minor": 0,
  "metadata": {
    "colab": {
      "name": "SarahMohammed_Lab1_MTE544.ipynb",
      "provenance": [],
      "collapsed_sections": []
    },
    "kernelspec": {
      "name": "python3",
      "display_name": "Python 3"
    }
  },
  "cells": [
    {
      "cell_type": "markdown",
      "metadata": {
        "id": "3KsS4YZm1QIH"
      },
      "source": [
        "# Lab 1 Path Planning"
      ]
    },
    {
      "cell_type": "markdown",
      "metadata": {
        "id": "-_CEw5TmO-KQ"
      },
      "source": [
        "## Class for creating Node"
      ]
    },
    {
      "cell_type": "code",
      "metadata": {
        "id": "L4jYdpkFdF-Q"
      },
      "source": [
        "import sys\n",
        "\n",
        "class Node:\n",
        "    def __init__(self, node,distance_remain=sys.maxsize,node_type=False):\n",
        "        self.id = node\n",
        "        self.neighbor = {}\n",
        "        # Set distance to infinity for all nodes\n",
        "        self.distance = sys.maxsize\n",
        "        # Set remaining distance to infinity for all nodes\n",
        "        self.distance_remain = distance_remain \n",
        "        # Set total distance to infinity\n",
        "        # for all nodes (total distance = current dist + reamin dist)\n",
        "        self.total_dist = sys.maxsize     \n",
        "        # Mark all nodes unvisited        \n",
        "        self.visited = False  \n",
        "        # Predecessor\n",
        "        self.previous = None\n",
        "        # Node with remain distance\n",
        "        self.node_type_dist_remain = node_type\n",
        "        # Add heuristic estimate (init to zero for Dijkstra)\n",
        "        self.estimate = 0\n",
        "\n",
        "    def add_neighbor(self, neighbor, weight=0):\n",
        "        self.neighbor[neighbor] = weight\n",
        "\n",
        "    def get_connections(self):\n",
        "        return self.neighbor.keys() \n",
        "\n",
        "    def get_weight(self, neighbor):\n",
        "        return self.neighbor[neighbor]\n",
        "\n",
        "    def set_distance(self, dist):\n",
        "        self.distance = dist\n",
        "\n",
        "    def set_total_distance(self, dist):\n",
        "        self.total_dist = dist\n",
        "\n",
        "    def set_distance_remain(self, dist):\n",
        "        self.distance_remain = dist\n",
        "\n",
        "    def set_previous(self, prev):\n",
        "        self.previous = prev\n",
        "\n",
        "    def set_visited(self):  # set visit value\n",
        "        self.visited = True\n",
        "\n",
        "    def set_node_type(self):  # set visit value\n",
        "        self.node_type_dist_remain = True\n",
        "\n",
        "    def set_estimate(self, estimate):\n",
        "        self.estimate = estimate\n",
        "\n",
        "    def __str__(self):    # function for print\n",
        "        if self.node_type_dist_remain == False:\n",
        "          return 'node: ' + str(self.id) + ' neighbor: '\n",
        "          + str([x.id for x in self.neighbor]) \n",
        "        else: \n",
        "          return 'node: ' + str(self.id) + ' neighbor: '\n",
        "          + str([x.id for x in self.neighbor]) + ' remain dist: '\n",
        "          + str(self.distance_remain)+ ' total dist: ' + str(self.total_dist)\n",
        "\n",
        "    def __repr__(self):    # function for print\n",
        "        if self.node_type_dist_remain == False:\n",
        "          return 'node: ' + str(self.id) + ' neighbor: '\n",
        "          + str([x.id for x in self.neighbor]) \n",
        "        else: \n",
        "          return 'node: ' + str(self.id) + ' neighbor: '\n",
        "          + str([x.id for x in self.neighbor]) + ' remain dist: '\n",
        "          + str(self.distance_remain)+ ' total dist: ' + str(self.total_dist)\n",
        "\n",
        "    def __lt__(self, other): # function for less than e.g. for <\n",
        "      if self.node_type_dist_remain == False:\n",
        "        if self.distance < other.distance:\n",
        "          return True\n",
        "        else:\n",
        "          return False\n",
        "      else:\n",
        "        if self.total_dist < other.total_dist:\n",
        "          return True\n",
        "        else:\n",
        "          return False\n",
        "\n",
        "    def __le__(self,other):  # function for less and equall than e.g. for <=\n",
        "      if self.node_type_dist_remain == False:\n",
        "        if self.distance <= other.distance:\n",
        "          return True\n",
        "        else:\n",
        "          return False\n",
        "      else:\n",
        "        if self.total_dist <= other.total_dist:\n",
        "          return True\n",
        "        else:\n",
        "          return False"
      ],
      "execution_count": null,
      "outputs": []
    },
    {
      "cell_type": "markdown",
      "metadata": {
        "id": "9p3pyBEg1RN_"
      },
      "source": [
        "## Class for creating Graph"
      ]
    },
    {
      "cell_type": "code",
      "metadata": {
        "id": "5otZ5qwEdItA"
      },
      "source": [
        "class Graph:\n",
        "    def __init__(self):\n",
        "        self.node_dict = {}\n",
        "        self.num_node = 0\n",
        "\n",
        "    def __iter__(self):\n",
        "        return iter(self.node_dict.values())\n",
        "\n",
        "    def add_Node(self, node): # add node to the graph\n",
        "        self.num_node = self.num_node + 1 \n",
        "        new_Node = Node(node)\n",
        "        self.node_dict[node] = new_Node # add node to node dictionary\n",
        "        return new_Node\n",
        "\n",
        "    def add_Node_dist_remain(self, node, dist_remain):\n",
        "        # add node to the graph with remaining distance\n",
        "        '''Your code here'''\n",
        "        self.num_node = self.num_node + 1 \n",
        "        new_Node = Node(node)\n",
        "        new_Node.set_distance_remain(dist_remain)\n",
        "        self.node_dict[node] = new_Node # add node to node dictionary\n",
        "        return new_Node\n",
        "\n",
        "    def get_Node(self, n):\n",
        "        if n in self.node_dict:\n",
        "            return self.node_dict[n]\n",
        "        else:\n",
        "            return None\n",
        "\n",
        "    def add_edge(self, frm, to, cost = 0): # add edge to the graph\n",
        "        if frm not in self.node_dict: # if start node is not included add node\n",
        "            self.add_Node(frm)\n",
        "\n",
        "        if to not in self.node_dict: # if end node is not included add node\n",
        "            self.add_Node(to)\n",
        "\n",
        "        # add edge cost to start node\n",
        "        self.node_dict[frm].add_neighbor(self.node_dict[to], cost)\n",
        "        # add edge cost to end node\n",
        "        self.node_dict[to].add_neighbor(self.node_dict[frm], cost) \n",
        "        \n",
        "    def add_estimate(self, node, estimate):\n",
        "        node = self.get_Node(node)\n",
        "        node.set_estimate(estimate)\n",
        "\n",
        "    def get_node(self): # Get keys in node dictionary\n",
        "        return self.node_dict.keys()\n",
        "\n",
        "    def set_previous(self, current):\n",
        "        self.previous = current\n",
        "\n",
        "    def get_previous(self, current):\n",
        "        return self.previous\n",
        "\n",
        "    def __str__(self):       # function for print\n",
        "        graphs = 'Graph data:'\n",
        "        for v in self:\n",
        "            for w in v.get_connections():\n",
        "                graphs = graphs + ('( Node:%s ,Node:%s, Dist:%3d)'%( v.id, w.id, v.get_weight(w)))\n",
        "        return graphs\n",
        "\n",
        "    def __repr__(self):      # function for print\n",
        "        graphs = 'Graph data:'\n",
        "        for v in self:\n",
        "            for w in v.get_connections():\n",
        "                graphs = graphs + ('( Node:%s ,Node:%s, Dist:%3d)'%(v.id, w.id, v.get_weight(w)))\n",
        "        return graphs"
      ],
      "execution_count": null,
      "outputs": []
    },
    {
      "cell_type": "markdown",
      "metadata": {
        "id": "z9O9GN701SKh"
      },
      "source": [
        "## Class for the dijkstra algorithm\n",
        "\n",
        "1. Mark all nodes unvisited. Create a set of all the unvisited nodes called the unvisited set.\n",
        "\n",
        "2. Assign to every node a tentative distance value: set it to zero for our initial node and to infinity for all other nodes. Set the initial node as current. For the current node, consider all of its unvisited neighbours and calculate their tentative distances through the current node. Compare the newly calculated tentative distance to the current assigned value and assign the smaller one. Mark the current node as visited and remove it from the unvisited set. A visited node will never be checked again. \n",
        "\n",
        "3. If the destination node has been marked visited (when planning a route between two specific nodes) or if the smallest tentative distance among the nodes in the unvisited set is infinity (when planning a complete traversal; occurs when there is no connection between the initial node and remaining unvisited nodes), then stop. The algorithm has finished.\n",
        "\n",
        "4. Otherwise, select the unvisited node that is ranked with the smallest tentative distance, set it as the new \"current node\", and go back to step 3.\n",
        "\n",
        "\n",
        "\n",
        "### Note: more document for the [heapq](https://docs.python.org/3/library/heapq.html) package"
      ]
    },
    {
      "cell_type": "markdown",
      "metadata": {
        "id": "eb1z778Pb1Mp"
      },
      "source": [
        "## Q1a. Please add a new text cell and write the pseudo code for Dijkstra algorithm."
      ]
    },
    {
      "cell_type": "markdown",
      "metadata": {
        "id": "KExAviclL1bF"
      },
      "source": [
        "Pseudo code for Dijkstra algorithm\n",
        "- separate nodes between visited and unvisited (create `unvisited_queue`; create `visited` bool in Node class, which is initialized to False)\n",
        "- start node has a distance of 0\n",
        "- all other nodes have initial distance of inf\n",
        "- all Nodes are unvisited, inside the `unvisited_queue`\n",
        "- start with starting Node as `current`\n",
        "- for all of `current`'s neighbors that are unvisited, calculate their tentative distance (tentative distance = previous covered distance + current distance)\n",
        "- if the tentative distance is less than the neighbor Node's distance, then update the neighbor Node's distance as the tentative distance\n",
        "- move the `current` Node out of the `unvisited_queue` and set `visited` bool to True\n",
        "- continue until the target node is visited OR the smallest tentative distance in the `unvisited_queue` is infinity"
      ]
    },
    {
      "cell_type": "markdown",
      "metadata": {
        "id": "AKFffAMPmWUn"
      },
      "source": [
        "## Q1b. Please complete the two lines of missing code in the dijkstra function."
      ]
    },
    {
      "cell_type": "code",
      "metadata": {
        "id": "OH7utghidK0R"
      },
      "source": [
        "import heapq # This module provides an implementation of the heap queue\n",
        "# algorithm, also known as the priority queue algorithm.\n",
        "\n",
        "def dijkstra(aGraph, start, target):\n",
        "    print ('''Dijkstra's shortest path''')\n",
        "    # Set the distance for the start Node to zero \n",
        "    start.set_distance(0)\n",
        "\n",
        "    # Put tuple pair into the priority queue\n",
        "    unvisited_queue = [(v.distance,v) for v in aGraph]\n",
        "    # [(0,s),(inf,a),(inf,b),(inf,c),(inf,d),(inf,e),(inf,f),....]\n",
        "    \n",
        "    print(unvisited_queue)\n",
        "    heapq.heapify(unvisited_queue) # Transform list x into a heap (min heap)\n",
        "    print(\"Priority Queue (Distance, Node, Neighbors): \\n................\\n\",\n",
        "          unvisited_queue)\n",
        "\n",
        "    # NOTE: This was previously `while len(unvisited_queue):`\n",
        "    # This is for the BONUS: changing the conditions for the while loop\n",
        "    # while (target.visited == False or unvisited_queue[0][0] == sys.maxsize):\n",
        "    while len(unvisited_queue):\n",
        "        # Pops a Node with the smallest distance\n",
        "        # removes and returns Node with smallest total_distance\n",
        "        unvisited = heapq.heappop(unvisited_queue) \n",
        "        current = unvisited[1] # accessing Node data\n",
        "        current.set_visited() # set visit flag to True\n",
        "        # Search the neighbors of current node and update path:\n",
        "        for next in current.neighbor:\n",
        "            # if visited, skip\n",
        "            if next.visited:\n",
        "                continue\n",
        "            new_dist = current.distance + current.get_weight(next)\n",
        "\n",
        "            ''' 1. Complete This Part '''\n",
        "            if new_dist < next.distance:\n",
        "                next.set_distance(new_dist)\n",
        "                next.set_previous(current)\n",
        "                print ('updated node dist: current = %s next = %s new_dist = %s' \\\n",
        "                        %(current.id, next.id, next.distance))\n",
        "            else:\n",
        "                print ('not updated : current = %s next = %s new_dist = %s' \\\n",
        "                        %(current.id, next.id, next.distance))\n",
        "\n",
        "        # Rebuild heap\n",
        "        # 1. Pop every item, clear the heap\n",
        "        while len(unvisited_queue):\n",
        "            heapq.heappop(unvisited_queue)\n",
        "      \n",
        "        # 2. Put all node not visited into the priority queue\n",
        "        # (e.g. delete current)\n",
        "\n",
        "        ''' 2. Complete This Part '''\n",
        "        #O(n) Linear\n",
        "        unvisited_queue = [(v.distance,v) for v in aGraph if v.visited == False]\n",
        "\n",
        "        #O(n) Linear\n",
        "        heapq.heapify(unvisited_queue) \n",
        "        print(\"Priority Queue (Distance, Node, Neighbors): \\n................\\n\",\n",
        "              unvisited_queue)\n",
        "\n",
        "def shortest(v, path):\n",
        "    ''' make shortest path from v.previous'''\n",
        "    if v.previous:\n",
        "        path.append(v.previous.id) # list of ids [E.id, X.id, X.id, .... S.id]\n",
        "        shortest(v.previous, path)\n",
        "    return"
      ],
      "execution_count": null,
      "outputs": []
    },
    {
      "cell_type": "markdown",
      "metadata": {
        "id": "PDygIZyhhBLb"
      },
      "source": [
        "## Q1c. Please add a new text cell and explain the advantages and disadvantages of Dijkstra algorithm."
      ]
    },
    {
      "cell_type": "markdown",
      "metadata": {
        "id": "b6y565oVLzN4"
      },
      "source": [
        "Advantages of Dijkstra Algorithm\n",
        "- Commonly used (Google Maps, maps, shortest path in IP routing)\n",
        "\n",
        "Disadvantages of Dijkstra Algorithm\n",
        "- Dijkstra does not consider the distance from the target. Some graphical shapes will perform poorly (Blind search)\n",
        "- Greedy algorithm\n",
        "- Can't use negative weights\n"
      ]
    },
    {
      "cell_type": "markdown",
      "metadata": {
        "id": "d0eguolA5nKf"
      },
      "source": [
        "\n",
        "\n",
        "## Q1d. Test the dijkstra algorithm using this graph \n",
        "\n",
        "\n",
        "![s1.jpg](data:image/jpeg;base64,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)"
      ]
    },
    {
      "cell_type": "code",
      "metadata": {
        "id": "fz9Y9uegdM59",
        "colab": {
          "base_uri": "https://localhost:8080/"
        },
        "outputId": "07d20d98-9aea-4847-b468-a2632ccb54e1"
      },
      "source": [
        "g = Graph()\n",
        "g.add_edge('s', 'a', 7)  \n",
        "g.add_edge('s', 'b', 2)\n",
        "g.add_edge('s', 'c', 3)\n",
        "g.add_edge('a', 'b', 3)\n",
        "g.add_edge('a', 'd', 4)\n",
        "g.add_edge('b', 'd', 4)\n",
        "g.add_edge('b', 'h', 1)\n",
        "g.add_edge('c', 'l', 2)\n",
        "g.add_edge('d', 'f', 5)\n",
        "g.add_edge('f', 'h', 3)  \n",
        "g.add_edge('h', 'g', 2)\n",
        "g.add_edge('g', 'e', 2)\n",
        "g.add_edge('l', 'i', 4)\n",
        "g.add_edge('l', 'j', 4)\n",
        "g.add_edge('i', 'j', 6)\n",
        "g.add_edge('j', 'e', 6)\n",
        "print(g)\n",
        "\n",
        "# def dijkstra(aGraph, start, target)\n",
        "dijkstra(g, g.get_Node('s'), g.get_Node('e')) \n",
        "\n",
        "target = g.get_Node('e')\n",
        "path = [target.id] #E.id\n",
        "shortest(target, path)\n",
        "print ('The shortest path : %s' %(path[::-1]))"
      ],
      "execution_count": null,
      "outputs": [
        {
          "output_type": "stream",
          "text": [
            "Graph data:( Node:s ,Node:a, Dist:  7)( Node:s ,Node:b, Dist:  2)( Node:s ,Node:c, Dist:  3)( Node:a ,Node:s, Dist:  7)( Node:a ,Node:b, Dist:  3)( Node:a ,Node:d, Dist:  4)( Node:b ,Node:s, Dist:  2)( Node:b ,Node:a, Dist:  3)( Node:b ,Node:d, Dist:  4)( Node:b ,Node:h, Dist:  1)( Node:c ,Node:s, Dist:  3)( Node:c ,Node:l, Dist:  2)( Node:d ,Node:a, Dist:  4)( Node:d ,Node:b, Dist:  4)( Node:d ,Node:f, Dist:  5)( Node:h ,Node:b, Dist:  1)( Node:h ,Node:f, Dist:  3)( Node:h ,Node:g, Dist:  2)( Node:l ,Node:c, Dist:  2)( Node:l ,Node:i, Dist:  4)( Node:l ,Node:j, Dist:  4)( Node:f ,Node:d, Dist:  5)( Node:f ,Node:h, Dist:  3)( Node:g ,Node:h, Dist:  2)( Node:g ,Node:e, Dist:  2)( Node:e ,Node:g, Dist:  2)( Node:e ,Node:j, Dist:  6)( Node:i ,Node:l, Dist:  4)( Node:i ,Node:j, Dist:  6)( Node:j ,Node:l, Dist:  4)( Node:j ,Node:i, Dist:  6)( Node:j ,Node:e, Dist:  6)\n",
            "Dijkstra's shortest path\n",
            "[(0, node: s neighbor: ), (9223372036854775807, node: a neighbor: ), (9223372036854775807, node: b neighbor: ), (9223372036854775807, node: c neighbor: ), (9223372036854775807, node: d neighbor: ), (9223372036854775807, node: h neighbor: ), (9223372036854775807, node: l neighbor: ), (9223372036854775807, node: f neighbor: ), (9223372036854775807, node: g neighbor: ), (9223372036854775807, node: e neighbor: ), (9223372036854775807, node: i neighbor: ), (9223372036854775807, node: j neighbor: )]\n",
            "Priority Queue (Distance, Node, Neighbors): \n",
            "................\n",
            " [(0, node: s neighbor: ), (9223372036854775807, node: i neighbor: ), (9223372036854775807, node: l neighbor: ), (9223372036854775807, node: g neighbor: ), (9223372036854775807, node: d neighbor: ), (9223372036854775807, node: j neighbor: ), (9223372036854775807, node: b neighbor: ), (9223372036854775807, node: f neighbor: ), (9223372036854775807, node: c neighbor: ), (9223372036854775807, node: e neighbor: ), (9223372036854775807, node: a neighbor: ), (9223372036854775807, node: h neighbor: )]\n",
            "updated node dist: current = s next = a new_dist = 7\n",
            "updated node dist: current = s next = b new_dist = 2\n",
            "updated node dist: current = s next = c new_dist = 3\n",
            "Priority Queue (Distance, Node, Neighbors): \n",
            "................\n",
            " [(2, node: b neighbor: ), (7, node: a neighbor: ), (3, node: c neighbor: ), (9223372036854775807, node: e neighbor: ), (9223372036854775807, node: j neighbor: ), (9223372036854775807, node: l neighbor: ), (9223372036854775807, node: f neighbor: ), (9223372036854775807, node: g neighbor: ), (9223372036854775807, node: d neighbor: ), (9223372036854775807, node: i neighbor: ), (9223372036854775807, node: h neighbor: )]\n",
            "updated node dist: current = b next = a new_dist = 5\n",
            "updated node dist: current = b next = d new_dist = 6\n",
            "updated node dist: current = b next = h new_dist = 3\n",
            "Priority Queue (Distance, Node, Neighbors): \n",
            "................\n",
            " [(3, node: h neighbor: ), (3, node: c neighbor: ), (6, node: d neighbor: ), (5, node: a neighbor: ), (9223372036854775807, node: j neighbor: ), (9223372036854775807, node: f neighbor: ), (9223372036854775807, node: g neighbor: ), (9223372036854775807, node: e neighbor: ), (9223372036854775807, node: i neighbor: ), (9223372036854775807, node: l neighbor: )]\n",
            "updated node dist: current = h next = f new_dist = 6\n",
            "updated node dist: current = h next = g new_dist = 5\n",
            "Priority Queue (Distance, Node, Neighbors): \n",
            "................\n",
            " [(3, node: c neighbor: ), (5, node: a neighbor: ), (5, node: g neighbor: ), (9223372036854775807, node: j neighbor: ), (6, node: f neighbor: ), (6, node: d neighbor: ), (9223372036854775807, node: e neighbor: ), (9223372036854775807, node: i neighbor: ), (9223372036854775807, node: l neighbor: )]\n",
            "updated node dist: current = c next = l new_dist = 5\n",
            "Priority Queue (Distance, Node, Neighbors): \n",
            "................\n",
            " [(5, node: l neighbor: ), (5, node: g neighbor: ), (5, node: a neighbor: ), (6, node: f neighbor: ), (6, node: d neighbor: ), (9223372036854775807, node: e neighbor: ), (9223372036854775807, node: i neighbor: ), (9223372036854775807, node: j neighbor: )]\n",
            "updated node dist: current = l next = i new_dist = 9\n",
            "updated node dist: current = l next = j new_dist = 9\n",
            "Priority Queue (Distance, Node, Neighbors): \n",
            "................\n",
            " [(5, node: g neighbor: ), (5, node: a neighbor: ), (6, node: f neighbor: ), (6, node: d neighbor: ), (9223372036854775807, node: e neighbor: ), (9, node: i neighbor: ), (9, node: j neighbor: )]\n",
            "updated node dist: current = g next = e new_dist = 7\n",
            "Priority Queue (Distance, Node, Neighbors): \n",
            "................\n",
            " [(5, node: a neighbor: ), (6, node: d neighbor: ), (6, node: f neighbor: ), (7, node: e neighbor: ), (9, node: i neighbor: ), (9, node: j neighbor: )]\n",
            "not updated : current = a next = d new_dist = 6\n",
            "Priority Queue (Distance, Node, Neighbors): \n",
            "................\n",
            " [(6, node: f neighbor: ), (6, node: d neighbor: ), (7, node: e neighbor: ), (9, node: i neighbor: ), (9, node: j neighbor: )]\n",
            "not updated : current = f next = d new_dist = 6\n",
            "Priority Queue (Distance, Node, Neighbors): \n",
            "................\n",
            " [(6, node: d neighbor: ), (7, node: e neighbor: ), (9, node: i neighbor: ), (9, node: j neighbor: )]\n",
            "Priority Queue (Distance, Node, Neighbors): \n",
            "................\n",
            " [(7, node: e neighbor: ), (9, node: i neighbor: ), (9, node: j neighbor: )]\n",
            "not updated : current = e next = j new_dist = 9\n",
            "Priority Queue (Distance, Node, Neighbors): \n",
            "................\n",
            " [(9, node: j neighbor: ), (9, node: i neighbor: )]\n",
            "The shortest path : ['s', 'b', 'h', 'g', 'e']\n"
          ],
          "name": "stdout"
        }
      ]
    },
    {
      "cell_type": "markdown",
      "metadata": {
        "id": "BAANWvzz6Zu1"
      },
      "source": [
        "## Q2a. Please add a new text cell and write the pseudo code for A Star algorithm.\n",
        "\n"
      ]
    },
    {
      "cell_type": "markdown",
      "metadata": {
        "id": "Rx70uAAtt-Pz"
      },
      "source": [
        "Pseudo code for A* algorithm\n",
        "- separate nodes between visited and unvisited (create `unvisited_queue`; create `visited` bool in Node class, which is initialized to False)\n",
        "- define the heuristic estimates of each Node\n",
        "- define the `total_distance` of a Node as the tentative distance + the heuristic estimate\n",
        "- start Node has a distance of 0\n",
        "- all other Nodes have initial distance of inf\n",
        "- all Nodes are unvisited, inside the `unvisited_queue`\n",
        "- start with starting Node as `current`\n",
        "- for all of `current`'s neighbors that are unvisited, calculate their tentative distance (tentative distance = previous covered distance + current distance) and total distance (total distance = heuristic estimate + tentative distance)\n",
        "- if the calculated total distance is less than the neighbor Node's total_distance, then update the neighbor Node's total_distance as the total distance\n",
        "- move the `current` Node out of the `unvisited_queue` and set `visited` bool to True\n",
        "- continue until the target node is visited OR the smallest tentative distance in the `unvisited_queue` is infinity"
      ]
    },
    {
      "cell_type": "markdown",
      "metadata": {
        "id": "PJADsEeDWqAT"
      },
      "source": [
        "## Q2b. Please complete the A_star function (A star algorithm) below:\n",
        "### Note: You can make changes to the Node class or Graph Class if needed"
      ]
    },
    {
      "cell_type": "code",
      "metadata": {
        "id": "aWkclOCQoiqm"
      },
      "source": [
        "def A_Star(aGraph, start, target):\n",
        "    print ('''A Star shortest path''')\n",
        "    # Set the distance for the start Node to zero \n",
        "    start.set_distance(0)\n",
        "\n",
        "    # Put tuple pair into the priority queue\n",
        "    # Change to v.total_dist\n",
        "    # so that the min heap pops the Node with the smallest total_dist\n",
        "    unvisited_queue = [(v.total_dist,v) for v in aGraph]\n",
        "    # [(inf,a),(inf,b),(inf,c),(inf,d),(inf,e),(inf,f),....]\n",
        "    \n",
        "    print(unvisited_queue)\n",
        "    heapq.heapify(unvisited_queue) # Transform list x into a heap (min heap)\n",
        "    print(\"Priority Queue (Distance, Node, Neighbors): \\n................\\n\",\n",
        "          unvisited_queue)\n",
        "\n",
        "    # This is for the BONUS: changing the conditions for the while loop\n",
        "    while ((not target.visited) or unvisited_queue[0][0] == sys.maxsize):\n",
        "    # while len(unvisited_queue):\n",
        "        # Pops a Node with the smallest distance \n",
        "        unvisited = heapq.heappop(unvisited_queue)\n",
        "        current = unvisited[1] # accessing Node data\n",
        "        current.set_visited() # set visit flag to True\n",
        "        \n",
        "        \n",
        "        \n",
        "        \n",
        "        \n",
        "        \n",
        "        \n",
        "        # Search the neighbors of current Node and update path:\n",
        "        for next in current.neighbor:\n",
        "            # if visited, skip\n",
        "            if next.visited:\n",
        "                continue\n",
        "            new_dist = current.distance + current.get_weight(next)\n",
        "            total_dist = new_dist + next.estimate\n",
        "            \n",
        "\n",
        "            ''' 1. Complete This Part '''\n",
        "            if total_dist < next.total_dist:\n",
        "                next.set_distance(new_dist)\n",
        "                next.set_total_distance(total_dist)\n",
        "                next.set_previous(current)\n",
        "                print ('updated node dist: current = %s next = %s new_dist = %s' \\\n",
        "                        %(current.id, next.id, next.distance))\n",
        "            else:\n",
        "                print ('not updated : current = %s next = %s new_dist = %s' \\\n",
        "                        %(current.id, next.id, next.distance))\n",
        "\n",
        "        # Rebuild heap\n",
        "        # 1. Pop every item, clear the heap\n",
        "        while len(unvisited_queue):\n",
        "            heapq.heappop(unvisited_queue)\n",
        "      \n",
        "        # 2. Put all node not visited into the priority queue (e.g. delete current)\n",
        "\n",
        "        ''' 2. Complete This Part '''\n",
        "        unvisited_queue = [(v.total_dist,v)\\\n",
        "                           for v in aGraph if v.visited == False]\n",
        "\n",
        "        heapq.heapify(unvisited_queue)\n",
        "        print(\"Priority Queue (Distance, Node, Neighbors): \\n................\\n\",\n",
        "              unvisited_queue)\n",
        "\n",
        "def shortest(v, path):\n",
        "    ''' make shortest path from v.previous'''\n",
        "    if v.previous:\n",
        "        path.append(v.previous.id)\n",
        "        shortest(v.previous, path)\n",
        "    return"
      ],
      "execution_count": null,
      "outputs": []
    },
    {
      "cell_type": "markdown",
      "metadata": {
        "id": "v-Ox_xyO53MO"
      },
      "source": [
        "## Q2c. Please test your A_star function and the dijkstra algorithm using the graph below.\n",
        "### Note: You need to print your path finding process similar to the Dijkstra above.\n",
        "### Note: Red number indicates the distance from node to node, Black number associated with nodes indiactes their estimated remaining distance to the end node\n",
        "![s2.jpg](data:image/jpeg;base64,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)\n"
      ]
    },
    {
      "cell_type": "code",
      "metadata": {
        "id": "JxbBzwibviyn",
        "colab": {
          "base_uri": "https://localhost:8080/"
        },
        "outputId": "560676ed-c0c3-45fc-fb93-99dcc90ab7f0"
      },
      "source": [
        "g = Graph()\n",
        "g.add_edge('s', 'a', 7)  \n",
        "g.add_edge('s', 'b', 4)\n",
        "g.add_edge('s', 'c', 5)\n",
        "g.add_edge('a', 'b', 1)\n",
        "g.add_edge('b', 'c', 1)\n",
        "g.add_edge('c', 'd', 3)\n",
        "g.add_edge('c', 'f', 5)\n",
        "g.add_edge('d', 'i', 2)\n",
        "g.add_edge('i', 'f', 1)\n",
        "g.add_edge('f', 'g', 2)\n",
        "g.add_edge('a', 'h', 17)\n",
        "g.add_edge('h', 'e', 0)\n",
        "print(g)\n",
        "\n",
        "# Please note I did not use dist_remain\n",
        "g.add_estimate('s',22)\n",
        "g.add_estimate('a',17)\n",
        "g.add_estimate('b',19)\n",
        "g.add_estimate('c', 31)\n",
        "g.add_estimate('d', 36)\n",
        "g.add_estimate('e',0)\n",
        "g.add_estimate('f',28)\n",
        "g.add_estimate('g',30)\n",
        "g.add_estimate('h',1)\n",
        "g.add_estimate('i',38)\n",
        "\n",
        "A_Star(g, g.get_Node('s'), g.get_Node('e'))\n",
        "\n",
        "target = g.get_Node('e')\n",
        "path = [target.id]\n",
        "shortest(target, path)\n",
        "print ('The shortest path : %s' %(path[::-1]))\n"
      ],
      "execution_count": null,
      "outputs": [
        {
          "output_type": "stream",
          "text": [
            "Graph data:( Node:s ,Node:a, Dist:  7)( Node:s ,Node:b, Dist:  4)( Node:s ,Node:c, Dist:  5)( Node:a ,Node:s, Dist:  7)( Node:a ,Node:b, Dist:  1)( Node:a ,Node:h, Dist: 17)( Node:b ,Node:s, Dist:  4)( Node:b ,Node:a, Dist:  1)( Node:b ,Node:c, Dist:  1)( Node:c ,Node:s, Dist:  5)( Node:c ,Node:b, Dist:  1)( Node:c ,Node:d, Dist:  3)( Node:c ,Node:f, Dist:  5)( Node:d ,Node:c, Dist:  3)( Node:d ,Node:i, Dist:  2)( Node:f ,Node:c, Dist:  5)( Node:f ,Node:i, Dist:  1)( Node:f ,Node:g, Dist:  2)( Node:i ,Node:d, Dist:  2)( Node:i ,Node:f, Dist:  1)( Node:g ,Node:f, Dist:  2)( Node:h ,Node:a, Dist: 17)( Node:h ,Node:e, Dist:  0)( Node:e ,Node:h, Dist:  0)\n",
            "A Star shortest path\n",
            "[(9223372036854775807, node: s neighbor: ), (9223372036854775807, node: a neighbor: ), (9223372036854775807, node: b neighbor: ), (9223372036854775807, node: c neighbor: ), (9223372036854775807, node: d neighbor: ), (9223372036854775807, node: f neighbor: ), (9223372036854775807, node: i neighbor: ), (9223372036854775807, node: g neighbor: ), (9223372036854775807, node: h neighbor: ), (9223372036854775807, node: e neighbor: )]\n",
            "Priority Queue (Distance, Node, Neighbors): \n",
            "................\n",
            " [(9223372036854775807, node: s neighbor: ), (9223372036854775807, node: e neighbor: ), (9223372036854775807, node: i neighbor: ), (9223372036854775807, node: h neighbor: ), (9223372036854775807, node: d neighbor: ), (9223372036854775807, node: f neighbor: ), (9223372036854775807, node: b neighbor: ), (9223372036854775807, node: g neighbor: ), (9223372036854775807, node: c neighbor: ), (9223372036854775807, node: a neighbor: )]\n",
            "updated node dist: current = s next = a new_dist = 7\n",
            "updated node dist: current = s next = b new_dist = 4\n",
            "updated node dist: current = s next = c new_dist = 5\n",
            "Priority Queue (Distance, Node, Neighbors): \n",
            "................\n",
            " [(23, node: b neighbor: ), (24, node: a neighbor: ), (36, node: c neighbor: ), (9223372036854775807, node: e neighbor: ), (9223372036854775807, node: f neighbor: ), (9223372036854775807, node: i neighbor: ), (9223372036854775807, node: g neighbor: ), (9223372036854775807, node: h neighbor: ), (9223372036854775807, node: d neighbor: )]\n",
            "updated node dist: current = b next = a new_dist = 5\n",
            "not updated : current = b next = c new_dist = 5\n",
            "Priority Queue (Distance, Node, Neighbors): \n",
            "................\n",
            " [(22, node: a neighbor: ), (36, node: c neighbor: ), (9223372036854775807, node: h neighbor: ), (9223372036854775807, node: e neighbor: ), (9223372036854775807, node: i neighbor: ), (9223372036854775807, node: g neighbor: ), (9223372036854775807, node: d neighbor: ), (9223372036854775807, node: f neighbor: )]\n",
            "updated node dist: current = a next = h new_dist = 22\n",
            "Priority Queue (Distance, Node, Neighbors): \n",
            "................\n",
            " [(23, node: h neighbor: ), (9223372036854775807, node: g neighbor: ), (36, node: c neighbor: ), (9223372036854775807, node: i neighbor: ), (9223372036854775807, node: d neighbor: ), (9223372036854775807, node: f neighbor: ), (9223372036854775807, node: e neighbor: )]\n",
            "updated node dist: current = h next = e new_dist = 22\n",
            "Priority Queue (Distance, Node, Neighbors): \n",
            "................\n",
            " [(22, node: e neighbor: ), (9223372036854775807, node: g neighbor: ), (36, node: c neighbor: ), (9223372036854775807, node: i neighbor: ), (9223372036854775807, node: d neighbor: ), (9223372036854775807, node: f neighbor: )]\n",
            "Priority Queue (Distance, Node, Neighbors): \n",
            "................\n",
            " [(36, node: c neighbor: ), (9223372036854775807, node: g neighbor: ), (9223372036854775807, node: f neighbor: ), (9223372036854775807, node: i neighbor: ), (9223372036854775807, node: d neighbor: )]\n",
            "The shortest path : ['s', 'b', 'a', 'h', 'e']\n"
          ],
          "name": "stdout"
        }
      ]
    },
    {
      "cell_type": "markdown",
      "metadata": {
        "id": "7waEgO5OXK-z"
      },
      "source": [
        "## Q2d.Please add a new text cell to describe the differences of the two algorithms and explain the reason behind it."
      ]
    },
    {
      "cell_type": "markdown",
      "metadata": {
        "id": "YrRBEsGnQWKS"
      },
      "source": [
        "Dijkstra is a blind search algorithm that does not take into consideration the location of the end target; in constrast, A* includes a heuristic estimate to the end target.\n",
        "\n",
        "Dijkstra performs poorly in some cases, for example Q2, where the minimum distance leads the algorithm further from E. The heuristic estimate adds additional weighting to each Node. \n",
        "\n",
        "Thus, the A* method has additional parameters, such as `total_distance`. The total distance of each Node is defined as the heuristic estimate and the tentative distance. The algorithm now uses  the `total_distance` to determine the path by selecting the node with the smallest `total_distane`\n",
        "\n",
        "Both algorithms use `unvisited = heapq.heappop(unvisited_queue)`; however, Dijkstra defines the heap with the tentative distance and pops the Node with the smallest tentative distance. A* defines the heap with the total distance and pops the node with the smallest total distnce"
      ]
    },
    {
      "cell_type": "markdown",
      "metadata": {
        "id": "M1Lme_tvj1l7"
      },
      "source": [
        "## Q2e. What is the time complexity of the Dijkstra and A Star algorithms you realized above?"
      ]
    },
    {
      "cell_type": "markdown",
      "metadata": {
        "id": "bIbxqchRox6e"
      },
      "source": [
        "Time complexity of Dijkstra: O(n^2)\n",
        "\n",
        "Time complexity of A*: O(n^2)\n",
        "\n",
        "---\n",
        "\n",
        "Both algorithms use a while loop that loops over the values in `unvisited_queue`. We can assume a worse case scenario where it is needed to loop over every Node. (Linear)\n",
        "\n",
        "Inside the while loop (Linear), the algorithms pop the current Node (constant) as the Node with the smallest distance (tentative or total, depending on the algorithm)... then the algorithm uses a for loop (linear) to iterate over the current Node's neighbors.\n",
        "\n",
        "While the examples have Nodes with few neighbors, in general, we can assume a worst-case scenario where a Node is a neighbor to every other Node.\n",
        "\n",
        "Lastly, in the while loop, we call heapify, which is also linear (O(n))\n",
        "\n",
        "In this case, the algorithms have O(n^2) time complexity due to the nested for loop inside of the while loop.\n",
        "\n",
        "Both algorithms use this format; therefore, both have the same complexity of O(n^2)"
      ]
    }
  ]
}